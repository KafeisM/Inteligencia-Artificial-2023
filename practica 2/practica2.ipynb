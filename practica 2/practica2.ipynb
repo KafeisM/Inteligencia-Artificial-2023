{
 "cells": [
  {
   "cell_type": "markdown",
   "id": "f8837dd9-299a-43eb-8965-bd69bdec5dfd",
   "metadata": {},
   "source": [
    "# Pràctica 2 - OCR de Nombres\r\n",
    "## Intel·ligència Artficial\n",
    "### Autors:\n",
    "- Jordi Florit Ensenyat\n",
    "- Pau Girón Rodríguez\n",
    "### Descripció:\n",
    "Es demana fer un reconèixedor de nombres escrits a mà. Partim del dataset de dígits 'load_digits' del 0 al 9 que han estat inserits a una malla de 8x8, representada per un vector de 64 posicions. Hi ha 1797 instàncies, és a dir, aproximadament 180 classes diferents. Llavonces la pràctica consistirà en realitzar tres parts diferents:\n",
    "- 1. Comparació del rendiments dels quatre models emprats: regressió logística, perceptró, arbre de decisió i bosc aleatori.\n",
    "- 2. 2\n",
    "- 3. 3l"
   ]
  },
  {
   "cell_type": "markdown",
   "id": "7b0c279e-8a87-46a9-9a38-01f070405585",
   "metadata": {},
   "source": [
    "# Part 1\n",
    "Imports:"
   ]
  },
  {
   "cell_type": "code",
   "execution_count": 1,
   "id": "da9f3477-0ebb-4102-a720-908f4303bf90",
   "metadata": {},
   "outputs": [],
   "source": [
    "from sklearn.datasets import load_digits"
   ]
  },
  {
   "cell_type": "code",
   "execution_count": null,
   "id": "bbff62e3-12ff-4662-b4c6-cfcaf3787c31",
   "metadata": {},
   "outputs": [],
   "source": []
  }
 ],
 "metadata": {
  "kernelspec": {
   "display_name": "Python 3 (ipykernel)",
   "language": "python",
   "name": "python3"
  },
  "language_info": {
   "codemirror_mode": {
    "name": "ipython",
    "version": 3
   },
   "file_extension": ".py",
   "mimetype": "text/x-python",
   "name": "python",
   "nbconvert_exporter": "python",
   "pygments_lexer": "ipython3",
   "version": "3.11.5"
  }
 },
 "nbformat": 4,
 "nbformat_minor": 5
}
