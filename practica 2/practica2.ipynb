{
 "cells": [
  {
   "cell_type": "markdown",
   "id": "f8837dd9-299a-43eb-8965-bd69bdec5dfd",
   "metadata": {
    "jp-MarkdownHeadingCollapsed": true
   },
   "source": [
    "# Pràctica 2 - OCR de Nombres\r\n",
    "## Intel·ligència Artficial\n",
    "### Autors:\n",
    "- Jordi Florit Ensenyat\n",
    "- Pau Girón Rodríguez\n",
    "### Descripció:\n",
    "Es demana fer un reconèixedor de nombres escrits a mà. Partim del dataset de dígits 'load_digits'de la llibreria 'sklearn's Aquest dataset conté 1797 mostres (aproximadament 180 de cada digit) , on cada mostra es una imatge en una escala de grisos de 8x8 píxels (vectoritzar en un vector de 64 posicions) on el valor de cada pixel esta dins el rang 0 (negre) - 16 (blanc), cada una de aquestes mostres representa un dígit del 0-9 i esta asociat a una etiqueta corresponent que indica el número que representa la imatge.. Llavonces la pràctica consistirà en realitzar tres parts diferents:\n",
    "- 1. Comparació del rendiments dels quatre models emprats: regressió logística, perceptró, arbre de decisió i bosc aleatori.\n",
    "- 2. 2\n",
    "- 3. l"
   ]
  },
  {
   "cell_type": "markdown",
   "id": "7b0c279e-8a87-46a9-9a38-01f070405585",
   "metadata": {},
   "source": [
    "# Part 1\n",
    "Configiracio del entorn,introduir els imports de les diferents llibreries de Python que utilitzarem:"
   ]
  },
  {
   "cell_type": "code",
   "execution_count": 1,
   "id": "da9f3477-0ebb-4102-a720-908f4303bf90",
   "metadata": {},
   "outputs": [],
   "source": [
    "from sklearn.datasets import load_digits\n",
    "import matplotlib.pyplot as plt"
   ]
  },
  {
   "cell_type": "markdown",
   "id": "c9767d51-4c57-418a-9f89-4ea331e9920a",
   "metadata": {},
   "source": [
    "# Part 2\n",
    "Carregar les dades i analitzar"
   ]
  },
  {
   "cell_type": "code",
   "execution_count": 2,
   "id": "bbff62e3-12ff-4662-b4c6-cfcaf3787c31",
   "metadata": {},
   "outputs": [
    {
     "name": "stdout",
     "output_type": "stream",
     "text": [
      "Dimensions de les dades: (1797, 64)\n",
      "Nombre de etiquetes: 10\n"
     ]
    },
    {
     "data": {
      "image/png": "[encoded data removed]",
      "text/plain": [
       "<Figure size 640x480 with 1 Axes>"
      ]
     },
     "metadata": {},
     "output_type": "display_data"
    }
   ],
   "source": [
    "# Cargar el dataset\n",
    "digits = load_digits()\n",
    "\n",
    "# Acceder a los datos y las etiquetas\n",
    "data = digits.data  # Obtener los datos de las imágenes\n",
    "target = digits.target  # Obtener las etiquetas (números que representan)\n",
    "\n",
    "# Mostrar información sobre el dataset\n",
    "print(f\"Dimensions de les dades: {data.shape}\")  # Muestra la forma de los datos (número de muestras, número de características)\n",
    "print(f\"Nombre de etiquetes: {len(set(target))}\")  # Muestra el número de etiquetas únicas (números de 0 a 9)\n",
    "\n",
    "# Mostrar una imagen de ejemplo\n",
    "index = 0  # Escoger el índice de la imagen que queremos mostrar\n",
    "imagen = data[index].reshape(8, 8)  # Reformatear los datos para obtener la imagen en 8x8\n",
    "\n",
    "# Invertir los colores: fondo blanco y número negro\n",
    "inverted_imagen = 16 - imagen  # Invertir los valores de intensidad de gris\n",
    "\n",
    "plt.gray()  # Configurar el mapa de colores a escala de grises\n",
    "plt.imshow(inverted_imagen, cmap='gray')  # Mostrar la imagen invertida\n",
    "plt.title(f\"Exemple de dígit: {target[index]}\")  # Título con la etiqueta correspondiente al número\n",
    "plt.axis('off')  # Desactivar los ejes\n",
    "plt.show()\n"
   ]
  },
  {
   "cell_type": "code",
   "execution_count": null,
   "id": "9f4f1ca9-6aff-4d71-9abf-a3a05cbe694e",
   "metadata": {},
   "outputs": [],
   "source": []
  }
 ],
 "metadata": {
  "kernelspec": {
   "display_name": "Python 3 (ipykernel)",
   "language": "python",
   "name": "python3"
  },
  "language_info": {
   "codemirror_mode": {
    "name": "ipython",
    "version": 3
   },
   "file_extension": ".py",
   "mimetype": "text/x-python",
   "name": "python",
   "nbconvert_exporter": "python",
   "pygments_lexer": "ipython3",
   "version": "3.11.5"
  }
 },
 "nbformat": 4,
 "nbformat_minor": 5
}
