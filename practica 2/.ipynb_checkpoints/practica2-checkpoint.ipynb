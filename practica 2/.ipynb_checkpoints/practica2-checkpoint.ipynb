{
 "cells": [
  {
   "cell_type": "markdown",
   "id": "f8837dd9-299a-43eb-8965-bd69bdec5dfd",
   "metadata": {
    "jp-MarkdownHeadingCollapsed": true
   },
   "source": [
    "# Pràctica 2 - OCR de Nombres\r\n",
    "## Intel·ligència Artficial\n",
    "### Autors:\n",
    "- Jordi Florit Ensenyat\n",
    "- Pau Girón Rodríguez\n",
    "### Descripció:\n",
    "Es demana fer un reconèixedor de nombres escrits a mà. Partim del dataset de dígits 'load_digits'de la llibreria 'sklearn's Aquest dataset conté 1797 mostres (aproximadament 180 de cada digit) , on cada mostra es una imatge en una escala de grisos de 8x8 píxels (vectoritzar en un vector de 64 posicions) on el valor de cada pixel esta dins el rang 0 (negre) - 16 (blanc), cada una de aquestes mostres representa un dígit del 0-9 i esta asociat a una etiqueta corresponent que indica el número que representa la imatge.. Llavonces la pràctica consistirà en realitzar tres parts diferents:\n",
    "- 1. Comparació del rendiments dels quatre models emprats: regressió logística, perceptró, arbre de decisió i bosc aleatori.\n",
    "- 2. 2\n",
    "- 3. l"
   ]
  },
  {
   "cell_type": "markdown",
   "id": "7b0c279e-8a87-46a9-9a38-01f070405585",
   "metadata": {},
   "source": [
    "# Part 1\n",
    "Configiracio del entorn,introduir els imports de les diferents llibreries de Python que utilitzarem:"
   ]
  },
  {
   "cell_type": "code",
   "execution_count": 1,
   "id": "da9f3477-0ebb-4102-a720-908f4303bf90",
   "metadata": {},
   "outputs": [],
   "source": [
    "import matplotlib.pyplot as plt\n",
    "from sklearn.datasets import load_digits\n",
    "from sklearn.model_selection import train_test_split"
   ]
  },
  {
   "cell_type": "markdown",
   "id": "c9767d51-4c57-418a-9f89-4ea331e9920a",
   "metadata": {},
   "source": [
    "# Part 2\n",
    "Carregam l'objecte *digits* retornat per *load_digits*. Aquest objecte conté diferents atributs entre els que destaquen:\n",
    "* data: Matriu de (n_samples, n_features) que contenen les caraacterístiques de entrada. Cada fila correspon a una imatge de 8x8 píxels aplanada en una array de longitud 64.\n",
    "* target\n",
    "* target_names\n",
    "* images\n",
    "* DESCR\n",
    "* \n",
    "(falta explicar-ho encara)"
   ]
  },
  {
   "cell_type": "code",
   "execution_count": 2,
   "id": "bbff62e3-12ff-4662-b4c6-cfcaf3787c31",
   "metadata": {},
   "outputs": [
    {
     "name": "stdout",
     "output_type": "stream",
     "text": [
      "Dimensions de les dades: (1797, 64)\n",
      "Nombre de etiquetes: 10\n"
     ]
    },
    {
     "data": {
      "text/plain": [
       "<function matplotlib.pyplot.show(close=None, block=None)>"
      ]
     },
     "execution_count": 2,
     "metadata": {},
     "output_type": "execute_result"
    },
    {
     "data": {
      "image/png": "[encoded data removed]",
      "text/plain": [
       "<Figure size 1000x500 with 10 Axes>"
      ]
     },
     "metadata": {},
     "output_type": "display_data"
    }
   ],
   "source": [
    "# Cargar el dataset\n",
    "digits = load_digits()\n",
    "\n",
    "# Acceder a los datos y las etiquetas\n",
    "data = digits.data  # Obtener los datos de las imágenes\n",
    "target = digits.target  # Obtener las etiquetas (números que representan)\n",
    "\n",
    "# Mostrar alguna informació sobre el dataset\n",
    "print(f\"Dimensions de les dades: {data.shape}\")  # Muestra la forma de los datos (número de muestras, número de características)\n",
    "print(f\"Nombre de etiquetes: {len(digits.target_names)}\")  # Muestra el número de etiquetas únicas (números de 0 a 9)\n",
    "\n",
    "# Visualitzar un exemple de cada classe\n",
    "fig, axes = plt.subplots(2,5,figsize=(10,5))\n",
    "for ax, image, label in zip(axes.ravel(), digits.images, digits.target):\n",
    "    ax.set_axis_off()\n",
    "    ax.imshow(image, cmap=plt.cm.gray_r)\n",
    "    ax.set_title('Dígit: %i' %label)\n",
    "plt.show\n",
    "\n"
   ]
  },
  {
   "cell_type": "markdown",
   "id": "385d760c-101a-466a-be37-c5ce226da2f3",
   "metadata": {},
   "source": [
    "Ara dividim les dades en conjunts de entrenament i proves. Els parametres que se han indicat son:\n",
    "* **test_size=0.2** Determina la proporcio del conjunt original que s'utilitzara com conjunt de proves en aquest cas. 20% proves i 80%      entrenament:\n",
    "* **random_state=42** Aquest parametre deterina la reproducibilitat dels resultats, establint una *seed* per el generador de nombres aleatoris (aquest nombre 42 podria ser qualsevol enter)\n",
    "    "
   ]
  },
  {
   "cell_type": "code",
   "execution_count": 4,
   "id": "9f4f1ca9-6aff-4d71-9abf-a3a05cbe694e",
   "metadata": {},
   "outputs": [],
   "source": [
    "X_train, X_test, y_train, y_test = train_test_split(data, target, test_size=0.2, random_state=42)"
   ]
  },
  {
   "cell_type": "markdown",
   "id": "cf88e43d-b3b8-4a3d-9ebe-6cd36433a17f",
   "metadata": {},
   "source": [
    "# Exercici Dificultat C\n",
    "Comparació dels rendiment dels models:\n",
    "* Regressor logístic\n",
    "* Perceptró\n",
    "* Arbre de decisió\n",
    "* Bosc aleatori"
   ]
  },
  {
   "cell_type": "code",
   "execution_count": null,
   "id": "bdcf4716-38fc-4a00-bd73-0fabf413fec5",
   "metadata": {},
   "outputs": [],
   "source": []
  }
 ],
 "metadata": {
  "kernelspec": {
   "display_name": "Python 3 (ipykernel)",
   "language": "python",
   "name": "python3"
  },
  "language_info": {
   "codemirror_mode": {
    "name": "ipython",
    "version": 3
   },
   "file_extension": ".py",
   "mimetype": "text/x-python",
   "name": "python",
   "nbconvert_exporter": "python",
   "pygments_lexer": "ipython3",
   "version": "3.11.5"
  }
 },
 "nbformat": 4,
 "nbformat_minor": 5
}
