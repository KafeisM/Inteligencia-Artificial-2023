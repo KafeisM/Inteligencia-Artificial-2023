{
 "cells": [
  {
   "cell_type": "markdown",
   "id": "f8837dd9-299a-43eb-8965-bd69bdec5dfd",
   "metadata": {
    "jp-MarkdownHeadingCollapsed": true
   },
   "source": [
    "# Pràctica 2 - OCR de Nombres\r\n",
    "## Intel·ligència Artficial\n",
    "### Autors:\n",
    "- Jordi Florit Ensenyat\n",
    "- Pau Girón Rodríguez\n",
    "### Descripció:\n",
    "Es demana fer un reconèixedor de nombres escrits a mà. Partim del dataset de dígits 'load_digits'de la llibreria 'sklearn's Aquest dataset conté 1797 mostres (aproximadament 180 de cada digit) , on cada mostra es una imatge en una escala de grisos de 8x8 píxels (vectoritzar en un vector de 64 posicions) on el valor de cada pixel esta dins el rang 0 (negre) - 16 (blanc), cada una de aquestes mostres representa un dígit del 0-9 i esta asociat a una etiqueta corresponent que indica el número que representa la imatge.. Llavonces la pràctica consistirà en realitzar tres parts diferents:\n",
    "- 1. Comparació del rendiments dels quatre models emprats: regressió logística, perceptró, arbre de decisió i bosc aleatori.\n",
    "- 2. 2\n",
    "- 3. l"
   ]
  },
  {
   "cell_type": "markdown",
   "id": "7b0c279e-8a87-46a9-9a38-01f070405585",
   "metadata": {},
   "source": [
    "# Part 1\n",
    "Configiracio del entorn,introduir els imports de les diferents llibreries de Python que utilitzarem:"
   ]
  },
  {
   "cell_type": "code",
   "execution_count": 6,
   "id": "da9f3477-0ebb-4102-a720-908f4303bf90",
   "metadata": {},
   "outputs": [],
   "source": [
    "# Descomentar la seguent linea per instalar seaborn al entorn de Python. Una vegada instalat es pot tornar a comentar\n",
    "# !pip install seaborn\n",
    "\n",
    "import seaborn as sns\n",
    "import matplotlib.pyplot as plt\n",
    "from sklearn.datasets import load_digits\n",
    "from sklearn.model_selection import train_test_split\n",
    "from sklearn.linear_model import LogisticRegression\n",
    "from sklearn.metrics import (accuracy_score, precision_score, recall_score, f1_score,\n",
    "                             confusion_matrix, mean_absolute_error, mean_squared_error,\n",
    "                             classification_report)\n"
   ]
  },
  {
   "cell_type": "markdown",
   "id": "c9767d51-4c57-418a-9f89-4ea331e9920a",
   "metadata": {},
   "source": [
    "# Part 2\n",
    "Carregam l'objecte *digits* retornat per *load_digits*. Aquest objecte conté diferents atributs entre els que destaquen:\n",
    "* data: Matriu de (n_samples, n_features) que contenen les caraacterístiques de entrada. Cada fila correspon a una imatge de 8x8 píxels aplanada en una array de longitud 64.\n",
    "* target: Es un array de longitud n_samples que conté les etiquetes o classes de les imátges. En aquest cas va de 0-9\n",
    "* target_names: Array que conté el nombre únic de les etiquetes.\n",
    "* images: Matriu de (n_samples,8, 8) que conté les imatges originals. El mateix que data però amb fortmat de matriu 2D per cada imatge.\n",
    "* DESCR: Cadena de text que conte una descripció completa del conjunt de dades."
   ]
  },
  {
   "cell_type": "code",
   "execution_count": 2,
   "id": "bbff62e3-12ff-4662-b4c6-cfcaf3787c31",
   "metadata": {},
   "outputs": [
    {
     "name": "stdout",
     "output_type": "stream",
     "text": [
      "Dimensions de les dades: (1797, 64)\n",
      "Nombre de etiquetes: 10\n"
     ]
    },
    {
     "data": {
      "text/plain": [
       "<function matplotlib.pyplot.show(close=None, block=None)>"
      ]
     },
     "execution_count": 2,
     "metadata": {},
     "output_type": "execute_result"
    },
    {
     "data": {
      "image/png": "[encoded data removed]",
      "text/plain": [
       "<Figure size 1000x500 with 10 Axes>"
      ]
     },
     "metadata": {},
     "output_type": "display_data"
    }
   ],
   "source": [
    "# Cargar el dataset\n",
    "digits = load_digits()\n",
    "\n",
    "# Acceder a los datos y las etiquetas\n",
    "data = digits.data  # Obtener los datos de las imágenes\n",
    "target = digits.target  # Obtener las etiquetas (números que representan)\n",
    "\n",
    "# Mostrar alguna informació sobre el dataset\n",
    "print(f\"Dimensions de les dades: {data.shape}\")  # Muestra la forma de los datos (número de muestras, número de características)\n",
    "print(f\"Nombre de etiquetes: {len(digits.target_names)}\")  # Muestra el número de etiquetas únicas (números de 0 a 9)\n",
    "# Visualitzar un exemple de cada classe\n",
    "fig, axes = plt.subplots(2,5,figsize=(10,5))\n",
    "for ax, image, label in zip(axes.ravel(), digits.images, digits.target):\n",
    "    ax.set_axis_off()\n",
    "    ax.imshow(image, cmap=plt.cm.gray_r)\n",
    "    ax.set_title('Dígit: %i' %label)\n",
    "plt.show\n",
    "\n"
   ]
  },
  {
   "cell_type": "markdown",
   "id": "385d760c-101a-466a-be37-c5ce226da2f3",
   "metadata": {},
   "source": [
    "Ara dividim les dades en conjunts de entrenament i proves. Els parametres que se han indicat son (A mes introduim les dades y les etiquetes de cada imatge ja separats preaviaments com **data** i **targets**):\n",
    "* **test_size=0.2** Determina la proporcio del conjunt original que s'utilitzara com conjunt de proves en aquest cas. 20% proves i 80%      entrenament:\n",
    "* **random_state=42** Aquest parametre deterina la reproducibilitat dels resultats, establint una *seed* per el generador de nombres aleatoris (aquest nombre 42 podria ser qualsevol enter)\n",
    "\n",
    "El que ens retorna la funció son 4 arrays:\n",
    "* X_train: Les dades de entrenament. Es un subconjunt de **data** seleccioant aleatoriament depenent dels parametres anteriors mencionats, en aquest cas un 77% de **data**\n",
    "* X_test: Son les dades de proves. Es el complementari de X_train.\n",
    "* y_train i y_test: Son les etiquetes corresponents a cada dada dins els arrays X_train i X_test."
   ]
  },
  {
   "cell_type": "code",
   "execution_count": 3,
   "id": "9f4f1ca9-6aff-4d71-9abf-a3a05cbe694e",
   "metadata": {},
   "outputs": [
    {
     "data": {
      "text/plain": [
       "((1203, 64), (594, 64), (1203,), (594,))"
      ]
     },
     "execution_count": 3,
     "metadata": {},
     "output_type": "execute_result"
    }
   ],
   "source": [
    "X_train, X_test, y_train, y_test = train_test_split(data, target, test_size=0.33, random_state=42)\n",
    "\n",
    "X_train.shape, X_test.shape, y_train.shape, y_test.shape"
   ]
  },
  {
   "cell_type": "markdown",
   "id": "cf88e43d-b3b8-4a3d-9ebe-6cd36433a17f",
   "metadata": {},
   "source": [
    "# Exercici Dificultat C\n",
    "Comparació dels rendiment dels models:\n",
    "* Regressor logístic\n",
    "* Perceptró\n",
    "* Arbre de decisió\n",
    "* Bosc aleatori"
   ]
  },
  {
   "cell_type": "markdown",
   "id": "60518342-814a-4861-a7da-f028e47035a2",
   "metadata": {},
   "source": [
    "## Regressor logístic\n",
    "Cream el model i indicam els paràmetres necesaris\n",
    "(mirar mes endavnat com seleccionar millor els parametres i explicar-los)"
   ]
  },
  {
   "cell_type": "code",
   "execution_count": 7,
   "id": "994b314a-8760-4114-9745-c72237cbdb5a",
   "metadata": {},
   "outputs": [
    {
     "name": "stdout",
     "output_type": "stream",
     "text": [
      "Classification report: \n",
      "               precision    recall  f1-score   support\n",
      "\n",
      "           0       1.00      1.00      1.00        55\n",
      "           1       0.95      0.95      0.95        55\n",
      "           2       0.96      1.00      0.98        52\n",
      "           3       0.98      0.96      0.97        56\n",
      "           4       1.00      0.98      0.99        64\n",
      "           5       0.95      0.96      0.95        73\n",
      "           6       0.98      0.98      0.98        57\n",
      "           7       1.00      0.98      0.99        62\n",
      "           8       0.93      0.96      0.94        52\n",
      "           9       0.98      0.96      0.97        68\n",
      "\n",
      "    accuracy                           0.97       594\n",
      "   macro avg       0.97      0.97      0.97       594\n",
      "weighted avg       0.97      0.97      0.97       594\n",
      "\n",
      "Precisió del model: 0.9730639730639731\n"
     ]
    }
   ],
   "source": [
    "#Crear el model\n",
    "log = LogisticRegression(multi_class='multinomial', solver='lbfgs', max_iter=10000)\n",
    "\n",
    "#Entrenar el model\n",
    "log.fit(X_train, y_train)\n",
    "\n",
    "#Fer les prediccions\n",
    "y_pred = log.predict(X_test)\n",
    "\n",
    "#Calcular la precisió del model\n",
    "accuracy = accuracy_score(y_test, y_pred)\n",
    "print(\"Classification report: \\n\", classification_report(y_test, y_pred))                        \n",
    "print(f'Precisió del model: {accuracy}')"
   ]
  },
  {
   "cell_type": "code",
   "execution_count": 5,
   "id": "44cce4e8-7b2f-4782-af16-d3d061fa2e53",
   "metadata": {},
   "outputs": [
    {
     "data": {
      "text/plain": [
       "<function matplotlib.pyplot.show(close=None, block=None)>"
      ]
     },
     "execution_count": 5,
     "metadata": {},
     "output_type": "execute_result"
    },
    {
     "data": {
      "image/png": "[encoded data removed]",
      "text/plain": [
       "<Figure size 1000x700 with 2 Axes>"
      ]
     },
     "metadata": {},
     "output_type": "display_data"
    }
   ],
   "source": [
    "# Crear la matriu de confusió\n",
    "cm =  confusion_matrix(y_test, y_pred)\n",
    "\n",
    "#Visualitzar la matriu\n",
    "plt.figure(figsize=(10,7))\n",
    "sns.heatmap(cm, annot=True, cmap='Blues')\n",
    "plt.xlabel('Predict')\n",
    "plt.ylabel('Real')\n",
    "plt.show"
   ]
  },
  {
   "cell_type": "code",
   "execution_count": null,
   "id": "89eda4b3-9b7d-4a36-b5c2-b96b81ef0da2",
   "metadata": {},
   "outputs": [],
   "source": []
  }
 ],
 "metadata": {
  "kernelspec": {
   "display_name": "Python 3 (ipykernel)",
   "language": "python",
   "name": "python3"
  },
  "language_info": {
   "codemirror_mode": {
    "name": "ipython",
    "version": 3
   },
   "file_extension": ".py",
   "mimetype": "text/x-python",
   "name": "python",
   "nbconvert_exporter": "python",
   "pygments_lexer": "ipython3",
   "version": "3.11.5"
  }
 },
 "nbformat": 4,
 "nbformat_minor": 5
}
